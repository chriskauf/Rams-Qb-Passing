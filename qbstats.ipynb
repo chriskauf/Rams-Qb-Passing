{
 "cells": [
  {
   "cell_type": "markdown",
   "metadata": {},
   "source": [
    "get QB median passing yards on away games when on the rams"
   ]
  },
  {
   "cell_type": "code",
   "execution_count": null,
   "metadata": {},
   "outputs": [],
   "source": [
    "import pandas as pd\n",
    "import numpy as np"
   ]
  },
  {
   "cell_type": "code",
   "execution_count": null,
   "metadata": {},
   "outputs": [],
   "source": [
    "qbData = pd.read_csv(\"qbData.csv\")\n"
   ]
  },
  {
   "cell_type": "code",
   "execution_count": null,
   "metadata": {},
   "outputs": [],
   "source": [
    "df = pd.DataFrame(qbData)\n",
    "value_to_keep = '@'\n",
    "value_to_keep2 = 'LAR'\n",
    "df_filtered = df[df.iloc[:, 7] == value_to_keep]\n",
    "df_filtered = df_filtered[df.iloc[:,6] == value_to_keep2]\n",
    "\n",
    "\n"
   ]
  },
  {
   "cell_type": "code",
   "execution_count": 49,
   "metadata": {},
   "outputs": [
    {
     "name": "stdout",
     "output_type": "stream",
     "text": [
      "This Players Median Passing Yards: 269.0\n"
     ]
    }
   ],
   "source": [
    "values_to_delete = [\"Inactive\",\"Injured Reserve\", \"Did Not Play\",\"Passing\", \"Yds\"]\n",
    "mask = ~df_filtered.iloc[:, 14].isin(values_to_delete)\n",
    "df_filtered = df_filtered[mask]\n",
    "median_value_passyrd = df_filtered.iloc[:,14].astype(int).median()\n",
    "print(f\"This Players Median Passing Yards: {median_value_passyrd}\")"
   ]
  }
 ],
 "metadata": {
  "kernelspec": {
   "display_name": "my_venv",
   "language": "python",
   "name": "python3"
  },
  "language_info": {
   "codemirror_mode": {
    "name": "ipython",
    "version": 3
   },
   "file_extension": ".py",
   "mimetype": "text/x-python",
   "name": "python",
   "nbconvert_exporter": "python",
   "pygments_lexer": "ipython3",
   "version": "3.12.0"
  }
 },
 "nbformat": 4,
 "nbformat_minor": 2
}
